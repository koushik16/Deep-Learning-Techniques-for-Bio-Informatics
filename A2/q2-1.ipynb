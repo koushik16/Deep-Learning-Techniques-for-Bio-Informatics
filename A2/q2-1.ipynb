{
 "cells": [
  {
   "cell_type": "code",
   "execution_count": 40,
   "metadata": {},
   "outputs": [
    {
     "name": "stdout",
     "output_type": "stream",
     "text": [
      "(56933, 9)\n"
     ]
    },
    {
     "data": {
      "text/html": [
       "<div>\n",
       "<style scoped>\n",
       "    .dataframe tbody tr th:only-of-type {\n",
       "        vertical-align: middle;\n",
       "    }\n",
       "\n",
       "    .dataframe tbody tr th {\n",
       "        vertical-align: top;\n",
       "    }\n",
       "\n",
       "    .dataframe thead th {\n",
       "        text-align: right;\n",
       "    }\n",
       "</style>\n",
       "<table border=\"1\" class=\"dataframe\">\n",
       "  <thead>\n",
       "    <tr style=\"text-align: right;\">\n",
       "      <th></th>\n",
       "      <th>Hugo_Symbol</th>\n",
       "      <th>PATIENT_ID</th>\n",
       "      <th>Variant_Classification</th>\n",
       "      <th>Variant_Type</th>\n",
       "      <th>Transcript_ID</th>\n",
       "      <th>Feature</th>\n",
       "      <th>Gene</th>\n",
       "      <th>CANCER_TYPE</th>\n",
       "      <th>CANCER_TYPE_DETAILED</th>\n",
       "    </tr>\n",
       "  </thead>\n",
       "  <tbody>\n",
       "    <tr>\n",
       "      <th>0</th>\n",
       "      <td>PTGER3</td>\n",
       "      <td>TCGA-B6-A0IG</td>\n",
       "      <td>Missense_Mutation</td>\n",
       "      <td>SNP</td>\n",
       "      <td>ENST00000356595</td>\n",
       "      <td>ENST00000356595</td>\n",
       "      <td>ENSG00000050628</td>\n",
       "      <td>Invasive Breast Carcinoma</td>\n",
       "      <td>Breast Invasive Ductal Carcinoma</td>\n",
       "    </tr>\n",
       "    <tr>\n",
       "      <th>1</th>\n",
       "      <td>FLG</td>\n",
       "      <td>TCGA-B6-A0IG</td>\n",
       "      <td>Missense_Mutation</td>\n",
       "      <td>SNP</td>\n",
       "      <td>ENST00000368799</td>\n",
       "      <td>ENST00000368799</td>\n",
       "      <td>ENSG00000143631</td>\n",
       "      <td>Invasive Breast Carcinoma</td>\n",
       "      <td>Breast Invasive Ductal Carcinoma</td>\n",
       "    </tr>\n",
       "    <tr>\n",
       "      <th>2</th>\n",
       "      <td>GPR52</td>\n",
       "      <td>TCGA-B6-A0IG</td>\n",
       "      <td>Silent</td>\n",
       "      <td>SNP</td>\n",
       "      <td>ENST00000367685</td>\n",
       "      <td>ENST00000367685</td>\n",
       "      <td>ENSG00000203737</td>\n",
       "      <td>Invasive Breast Carcinoma</td>\n",
       "      <td>Breast Invasive Ductal Carcinoma</td>\n",
       "    </tr>\n",
       "    <tr>\n",
       "      <th>3</th>\n",
       "      <td>SLC35F3</td>\n",
       "      <td>TCGA-B6-A0IG</td>\n",
       "      <td>Silent</td>\n",
       "      <td>SNP</td>\n",
       "      <td>ENST00000366618</td>\n",
       "      <td>ENST00000366618</td>\n",
       "      <td>ENSG00000183780</td>\n",
       "      <td>Invasive Breast Carcinoma</td>\n",
       "      <td>Breast Invasive Ductal Carcinoma</td>\n",
       "    </tr>\n",
       "    <tr>\n",
       "      <th>4</th>\n",
       "      <td>OR2T3</td>\n",
       "      <td>TCGA-B6-A0IG</td>\n",
       "      <td>Missense_Mutation</td>\n",
       "      <td>SNP</td>\n",
       "      <td>ENST00000359594</td>\n",
       "      <td>ENST00000359594</td>\n",
       "      <td>ENSG00000196539</td>\n",
       "      <td>Invasive Breast Carcinoma</td>\n",
       "      <td>Breast Invasive Ductal Carcinoma</td>\n",
       "    </tr>\n",
       "  </tbody>\n",
       "</table>\n",
       "</div>"
      ],
      "text/plain": [
       "  Hugo_Symbol    PATIENT_ID Variant_Classification Variant_Type  \\\n",
       "0      PTGER3  TCGA-B6-A0IG      Missense_Mutation          SNP   \n",
       "1         FLG  TCGA-B6-A0IG      Missense_Mutation          SNP   \n",
       "2       GPR52  TCGA-B6-A0IG                 Silent          SNP   \n",
       "3     SLC35F3  TCGA-B6-A0IG                 Silent          SNP   \n",
       "4       OR2T3  TCGA-B6-A0IG      Missense_Mutation          SNP   \n",
       "\n",
       "     Transcript_ID          Feature             Gene  \\\n",
       "0  ENST00000356595  ENST00000356595  ENSG00000050628   \n",
       "1  ENST00000368799  ENST00000368799  ENSG00000143631   \n",
       "2  ENST00000367685  ENST00000367685  ENSG00000203737   \n",
       "3  ENST00000366618  ENST00000366618  ENSG00000183780   \n",
       "4  ENST00000359594  ENST00000359594  ENSG00000196539   \n",
       "\n",
       "                 CANCER_TYPE              CANCER_TYPE_DETAILED  \n",
       "0  Invasive Breast Carcinoma  Breast Invasive Ductal Carcinoma  \n",
       "1  Invasive Breast Carcinoma  Breast Invasive Ductal Carcinoma  \n",
       "2  Invasive Breast Carcinoma  Breast Invasive Ductal Carcinoma  \n",
       "3  Invasive Breast Carcinoma  Breast Invasive Ductal Carcinoma  \n",
       "4  Invasive Breast Carcinoma  Breast Invasive Ductal Carcinoma  "
      ]
     },
     "metadata": {},
     "output_type": "display_data"
    }
   ],
   "source": [
    "import pandas as pd, numpy as np\n",
    "\n",
    "#Reading data\n",
    "df_clinicalsample = pd.read_csv(\"C:/Users/koush/Desktop/ML-Bio-HW2/data/brca_tcga_pub2015/data_clinical_sample.txt\", sep=\"\\t\", skiprows=4)\n",
    "df_clinicalsample.replace('[Not Available]', np.nan, inplace=True)\n",
    "df_mutations = pd.read_csv(\"C:/Users/koush/Desktop/ML-Bio-HW2/data/brca_tcga_pub2015/data_mutations.txt\", sep=\"\\t\")\n",
    "df_mutations['PATIENT_ID'] = df_mutations['Tumor_Sample_Barcode'].apply(lambda x: x[:-3])\n",
    "df = pd.merge(df_mutations, df_clinicalsample, on='PATIENT_ID', how='left')\n",
    "df.head()\n",
    "#getting only the rows we need\n",
    "cancer = df[['Hugo_Symbol','PATIENT_ID','Variant_Classification',\n",
    "             'Variant_Type','Transcript_ID','Feature','Gene',\n",
    "             'CANCER_TYPE','CANCER_TYPE_DETAILED',]]\n",
    "cancer = cancer.loc[(cancer['CANCER_TYPE_DETAILED']=='Breast Invasive Lobular Carcinoma') | (cancer['CANCER_TYPE_DETAILED']=='Breast Invasive Ductal Carcinoma')]\n",
    "#Getting the target variables\n",
    "df_target = cancer[['PATIENT_ID','CANCER_TYPE_DETAILED']].drop_duplicates()\n",
    "print(cancer.shape)\n",
    "display(cancer.head())"
   ]
  },
  {
   "cell_type": "code",
   "execution_count": 41,
   "metadata": {},
   "outputs": [],
   "source": [
    "col = [\"PATIENT_ID\"]+cancer['Hugo_Symbol'].drop_duplicates().sort_values().values.tolist() "
   ]
  },
  {
   "cell_type": "code",
   "execution_count": 42,
   "metadata": {},
   "outputs": [],
   "source": [
    "dataf = pd.DataFrame(columns=col)"
   ]
  },
  {
   "cell_type": "code",
   "execution_count": 43,
   "metadata": {},
   "outputs": [],
   "source": [
    "dataf[\"PATIENT_ID\"] = cancer['PATIENT_ID'].drop_duplicates().values"
   ]
  },
  {
   "cell_type": "code",
   "execution_count": 44,
   "metadata": {},
   "outputs": [],
   "source": [
    "for i in dataf.iterrows():\n",
    "    pat = i[1]['PATIENT_ID']\n",
    "    hug = cancer[cancer['PATIENT_ID']==pat]['Hugo_Symbol'].values\n",
    "    val,count = np.unique(hug,return_counts=True)\n",
    "    dataf.loc[i[0],val]=count"
   ]
  },
  {
   "cell_type": "code",
   "execution_count": 45,
   "metadata": {},
   "outputs": [],
   "source": [
    "dataf.fillna(0,inplace=True)"
   ]
  },
  {
   "cell_type": "code",
   "execution_count": 46,
   "metadata": {},
   "outputs": [],
   "source": [
    "dataf = dataf.merge(df_target,how=\"inner\",on=\"PATIENT_ID\")"
   ]
  },
  {
   "cell_type": "code",
   "execution_count": 47,
   "metadata": {},
   "outputs": [
    {
     "data": {
      "text/html": [
       "<div>\n",
       "<style scoped>\n",
       "    .dataframe tbody tr th:only-of-type {\n",
       "        vertical-align: middle;\n",
       "    }\n",
       "\n",
       "    .dataframe tbody tr th {\n",
       "        vertical-align: top;\n",
       "    }\n",
       "\n",
       "    .dataframe thead th {\n",
       "        text-align: right;\n",
       "    }\n",
       "</style>\n",
       "<table border=\"1\" class=\"dataframe\">\n",
       "  <thead>\n",
       "    <tr style=\"text-align: right;\">\n",
       "      <th></th>\n",
       "      <th>PATIENT_ID</th>\n",
       "      <th>A1CF</th>\n",
       "      <th>A2M</th>\n",
       "      <th>A2ML1</th>\n",
       "      <th>A4GALT</th>\n",
       "      <th>A4GNT</th>\n",
       "      <th>AAAS</th>\n",
       "      <th>AACS</th>\n",
       "      <th>AADAC</th>\n",
       "      <th>AADACL2</th>\n",
       "      <th>...</th>\n",
       "      <th>ZWINT</th>\n",
       "      <th>ZXDA</th>\n",
       "      <th>ZXDB</th>\n",
       "      <th>ZXDC</th>\n",
       "      <th>ZYG11A</th>\n",
       "      <th>ZYG11B</th>\n",
       "      <th>ZYX</th>\n",
       "      <th>ZZEF1</th>\n",
       "      <th>ZZZ3</th>\n",
       "      <th>CANCER_TYPE_DETAILED</th>\n",
       "    </tr>\n",
       "  </thead>\n",
       "  <tbody>\n",
       "    <tr>\n",
       "      <th>0</th>\n",
       "      <td>TCGA-B6-A0IG</td>\n",
       "      <td>0</td>\n",
       "      <td>0</td>\n",
       "      <td>0</td>\n",
       "      <td>0</td>\n",
       "      <td>0</td>\n",
       "      <td>0</td>\n",
       "      <td>0</td>\n",
       "      <td>0</td>\n",
       "      <td>0</td>\n",
       "      <td>...</td>\n",
       "      <td>0</td>\n",
       "      <td>0</td>\n",
       "      <td>0</td>\n",
       "      <td>0</td>\n",
       "      <td>0</td>\n",
       "      <td>0</td>\n",
       "      <td>0</td>\n",
       "      <td>0</td>\n",
       "      <td>0</td>\n",
       "      <td>Breast Invasive Ductal Carcinoma</td>\n",
       "    </tr>\n",
       "    <tr>\n",
       "      <th>1</th>\n",
       "      <td>TCGA-BH-A0HQ</td>\n",
       "      <td>0</td>\n",
       "      <td>0</td>\n",
       "      <td>0</td>\n",
       "      <td>0</td>\n",
       "      <td>0</td>\n",
       "      <td>0</td>\n",
       "      <td>0</td>\n",
       "      <td>0</td>\n",
       "      <td>0</td>\n",
       "      <td>...</td>\n",
       "      <td>0</td>\n",
       "      <td>0</td>\n",
       "      <td>0</td>\n",
       "      <td>0</td>\n",
       "      <td>0</td>\n",
       "      <td>0</td>\n",
       "      <td>0</td>\n",
       "      <td>0</td>\n",
       "      <td>0</td>\n",
       "      <td>Breast Invasive Ductal Carcinoma</td>\n",
       "    </tr>\n",
       "    <tr>\n",
       "      <th>2</th>\n",
       "      <td>TCGA-BH-A18G</td>\n",
       "      <td>0</td>\n",
       "      <td>0</td>\n",
       "      <td>0</td>\n",
       "      <td>0</td>\n",
       "      <td>0</td>\n",
       "      <td>0</td>\n",
       "      <td>0</td>\n",
       "      <td>0</td>\n",
       "      <td>0</td>\n",
       "      <td>...</td>\n",
       "      <td>0</td>\n",
       "      <td>0</td>\n",
       "      <td>0</td>\n",
       "      <td>0</td>\n",
       "      <td>0</td>\n",
       "      <td>0</td>\n",
       "      <td>0</td>\n",
       "      <td>0</td>\n",
       "      <td>0</td>\n",
       "      <td>Breast Invasive Ductal Carcinoma</td>\n",
       "    </tr>\n",
       "    <tr>\n",
       "      <th>3</th>\n",
       "      <td>TCGA-A1-A0SD</td>\n",
       "      <td>0</td>\n",
       "      <td>0</td>\n",
       "      <td>0</td>\n",
       "      <td>0</td>\n",
       "      <td>0</td>\n",
       "      <td>0</td>\n",
       "      <td>0</td>\n",
       "      <td>0</td>\n",
       "      <td>0</td>\n",
       "      <td>...</td>\n",
       "      <td>0</td>\n",
       "      <td>0</td>\n",
       "      <td>0</td>\n",
       "      <td>0</td>\n",
       "      <td>0</td>\n",
       "      <td>0</td>\n",
       "      <td>0</td>\n",
       "      <td>0</td>\n",
       "      <td>0</td>\n",
       "      <td>Breast Invasive Ductal Carcinoma</td>\n",
       "    </tr>\n",
       "    <tr>\n",
       "      <th>4</th>\n",
       "      <td>TCGA-A1-A0SF</td>\n",
       "      <td>0</td>\n",
       "      <td>0</td>\n",
       "      <td>0</td>\n",
       "      <td>0</td>\n",
       "      <td>0</td>\n",
       "      <td>0</td>\n",
       "      <td>0</td>\n",
       "      <td>0</td>\n",
       "      <td>0</td>\n",
       "      <td>...</td>\n",
       "      <td>0</td>\n",
       "      <td>0</td>\n",
       "      <td>0</td>\n",
       "      <td>0</td>\n",
       "      <td>0</td>\n",
       "      <td>0</td>\n",
       "      <td>0</td>\n",
       "      <td>0</td>\n",
       "      <td>0</td>\n",
       "      <td>Breast Invasive Ductal Carcinoma</td>\n",
       "    </tr>\n",
       "  </tbody>\n",
       "</table>\n",
       "<p>5 rows × 15304 columns</p>\n",
       "</div>"
      ],
      "text/plain": [
       "     PATIENT_ID  A1CF  A2M  A2ML1  A4GALT  A4GNT  AAAS  AACS  AADAC  AADACL2  \\\n",
       "0  TCGA-B6-A0IG     0    0      0       0      0     0     0      0        0   \n",
       "1  TCGA-BH-A0HQ     0    0      0       0      0     0     0      0        0   \n",
       "2  TCGA-BH-A18G     0    0      0       0      0     0     0      0        0   \n",
       "3  TCGA-A1-A0SD     0    0      0       0      0     0     0      0        0   \n",
       "4  TCGA-A1-A0SF     0    0      0       0      0     0     0      0        0   \n",
       "\n",
       "   ...  ZWINT  ZXDA  ZXDB  ZXDC  ZYG11A  ZYG11B  ZYX  ZZEF1  ZZZ3  \\\n",
       "0  ...      0     0     0     0       0       0    0      0     0   \n",
       "1  ...      0     0     0     0       0       0    0      0     0   \n",
       "2  ...      0     0     0     0       0       0    0      0     0   \n",
       "3  ...      0     0     0     0       0       0    0      0     0   \n",
       "4  ...      0     0     0     0       0       0    0      0     0   \n",
       "\n",
       "               CANCER_TYPE_DETAILED  \n",
       "0  Breast Invasive Ductal Carcinoma  \n",
       "1  Breast Invasive Ductal Carcinoma  \n",
       "2  Breast Invasive Ductal Carcinoma  \n",
       "3  Breast Invasive Ductal Carcinoma  \n",
       "4  Breast Invasive Ductal Carcinoma  \n",
       "\n",
       "[5 rows x 15304 columns]"
      ]
     },
     "execution_count": 47,
     "metadata": {},
     "output_type": "execute_result"
    }
   ],
   "source": [
    "dataf.head()"
   ]
  },
  {
   "cell_type": "code",
   "execution_count": null,
   "metadata": {},
   "outputs": [],
   "source": []
  },
  {
   "attachments": {},
   "cell_type": "markdown",
   "metadata": {},
   "source": [
    "Linear Discriminant Analysis with KFold cross validation"
   ]
  },
  {
   "cell_type": "code",
   "execution_count": 48,
   "metadata": {},
   "outputs": [
    {
     "name": "stderr",
     "output_type": "stream",
     "text": [
      "[Parallel(n_jobs=1)]: Using backend SequentialBackend with 1 concurrent workers.\n"
     ]
    },
    {
     "name": "stdout",
     "output_type": "stream",
     "text": [
      "[CV] END ................................ score: (test=0.719) total time=   5.9s\n"
     ]
    },
    {
     "name": "stderr",
     "output_type": "stream",
     "text": [
      "[Parallel(n_jobs=1)]: Done   1 out of   1 | elapsed:    5.9s remaining:    0.0s\n"
     ]
    },
    {
     "name": "stdout",
     "output_type": "stream",
     "text": [
      "[CV] END ................................ score: (test=0.755) total time=   5.5s\n"
     ]
    },
    {
     "name": "stderr",
     "output_type": "stream",
     "text": [
      "[Parallel(n_jobs=1)]: Done   2 out of   2 | elapsed:   11.5s remaining:    0.0s\n"
     ]
    },
    {
     "name": "stdout",
     "output_type": "stream",
     "text": [
      "[CV] END ................................ score: (test=0.716) total time=   5.3s\n",
      "[CV] END ................................ score: (test=0.718) total time=   5.1s\n",
      "[CV] END ................................ score: (test=0.725) total time=   5.5s\n"
     ]
    },
    {
     "name": "stderr",
     "output_type": "stream",
     "text": [
      "[Parallel(n_jobs=1)]: Done   5 out of   5 | elapsed:   27.7s finished\n"
     ]
    }
   ],
   "source": [
    "from sklearn.discriminant_analysis import LinearDiscriminantAnalysis\n",
    "from sklearn.model_selection import cross_val_score\n",
    "\n",
    "clf = LinearDiscriminantAnalysis()\n",
    "scores_clf = cross_val_score(clf, dataf.iloc[:,1:-1], dataf['CANCER_TYPE_DETAILED'], cv=5,verbose=3,scoring=\"f1_weighted\")"
   ]
  },
  {
   "cell_type": "code",
   "execution_count": 49,
   "metadata": {},
   "outputs": [
    {
     "data": {
      "text/plain": [
       "array([0.71904266, 0.75492832, 0.71624098, 0.71790707, 0.72546478])"
      ]
     },
     "execution_count": 49,
     "metadata": {},
     "output_type": "execute_result"
    }
   ],
   "source": [
    "scores_clf"
   ]
  },
  {
   "cell_type": "code",
   "execution_count": null,
   "metadata": {},
   "outputs": [],
   "source": []
  },
  {
   "attachments": {},
   "cell_type": "markdown",
   "metadata": {},
   "source": [
    "Naive Bayes with KFold cross validation"
   ]
  },
  {
   "cell_type": "code",
   "execution_count": 50,
   "metadata": {},
   "outputs": [
    {
     "name": "stderr",
     "output_type": "stream",
     "text": [
      "[Parallel(n_jobs=1)]: Using backend SequentialBackend with 1 concurrent workers.\n"
     ]
    },
    {
     "name": "stdout",
     "output_type": "stream",
     "text": [
      "[CV] END ................................ score: (test=0.698) total time=   1.2s\n"
     ]
    },
    {
     "name": "stderr",
     "output_type": "stream",
     "text": [
      "[Parallel(n_jobs=1)]: Done   1 out of   1 | elapsed:    1.3s remaining:    0.0s\n"
     ]
    },
    {
     "name": "stdout",
     "output_type": "stream",
     "text": [
      "[CV] END ................................ score: (test=0.698) total time=   0.7s\n"
     ]
    },
    {
     "name": "stderr",
     "output_type": "stream",
     "text": [
      "[Parallel(n_jobs=1)]: Done   2 out of   2 | elapsed:    2.1s remaining:    0.0s\n"
     ]
    },
    {
     "name": "stdout",
     "output_type": "stream",
     "text": [
      "[CV] END ................................ score: (test=0.707) total time=   0.6s\n",
      "[CV] END ................................ score: (test=0.707) total time=   0.6s\n",
      "[CV] END ................................ score: (test=0.707) total time=   0.6s\n"
     ]
    },
    {
     "name": "stderr",
     "output_type": "stream",
     "text": [
      "[Parallel(n_jobs=1)]: Done   5 out of   5 | elapsed:    4.3s finished\n"
     ]
    }
   ],
   "source": [
    "from sklearn.naive_bayes import GaussianNB\n",
    "\n",
    "clf = GaussianNB()\n",
    "scores_clf1 = cross_val_score(clf, dataf.iloc[:,1:-1], dataf['CANCER_TYPE_DETAILED'], cv=5,verbose=3,scoring=\"f1_weighted\")"
   ]
  },
  {
   "cell_type": "code",
   "execution_count": 51,
   "metadata": {},
   "outputs": [
    {
     "data": {
      "text/plain": [
       "array([0.69776228, 0.69776228, 0.70661811, 0.70661811, 0.70661811])"
      ]
     },
     "execution_count": 51,
     "metadata": {},
     "output_type": "execute_result"
    }
   ],
   "source": [
    "scores_clf1"
   ]
  },
  {
   "cell_type": "code",
   "execution_count": null,
   "metadata": {},
   "outputs": [],
   "source": []
  },
  {
   "attachments": {},
   "cell_type": "markdown",
   "metadata": {},
   "source": [
    "Logistic Regression with KFold cross validation"
   ]
  },
  {
   "cell_type": "code",
   "execution_count": 52,
   "metadata": {},
   "outputs": [
    {
     "name": "stderr",
     "output_type": "stream",
     "text": [
      "[Parallel(n_jobs=1)]: Using backend SequentialBackend with 1 concurrent workers.\n"
     ]
    },
    {
     "name": "stdout",
     "output_type": "stream",
     "text": [
      "[CV] END ................................ score: (test=0.894) total time=   1.3s\n"
     ]
    },
    {
     "name": "stderr",
     "output_type": "stream",
     "text": [
      "[Parallel(n_jobs=1)]: Done   1 out of   1 | elapsed:    1.3s remaining:    0.0s\n"
     ]
    },
    {
     "name": "stdout",
     "output_type": "stream",
     "text": [
      "[CV] END ................................ score: (test=0.848) total time=   0.8s\n"
     ]
    },
    {
     "name": "stderr",
     "output_type": "stream",
     "text": [
      "[Parallel(n_jobs=1)]: Done   2 out of   2 | elapsed:    2.2s remaining:    0.0s\n"
     ]
    },
    {
     "name": "stdout",
     "output_type": "stream",
     "text": [
      "[CV] END ................................ score: (test=0.882) total time=   0.9s\n",
      "[CV] END ................................ score: (test=0.837) total time=   0.9s\n",
      "[CV] END ................................ score: (test=0.890) total time=   0.9s\n"
     ]
    },
    {
     "name": "stderr",
     "output_type": "stream",
     "text": [
      "[Parallel(n_jobs=1)]: Done   5 out of   5 | elapsed:    5.2s finished\n"
     ]
    }
   ],
   "source": [
    "from sklearn.linear_model import LogisticRegression\n",
    "\n",
    "\n",
    "clf = LogisticRegression()\n",
    "scores_clf2 = cross_val_score(clf, dataf.iloc[:,1:-1], dataf['CANCER_TYPE_DETAILED'], cv=5,verbose=3,scoring=\"f1_weighted\")"
   ]
  },
  {
   "cell_type": "code",
   "execution_count": 53,
   "metadata": {},
   "outputs": [
    {
     "data": {
      "text/plain": [
       "array([0.89405396, 0.84815486, 0.88221201, 0.83708462, 0.88984892])"
      ]
     },
     "execution_count": 53,
     "metadata": {},
     "output_type": "execute_result"
    }
   ],
   "source": [
    "scores_clf2"
   ]
  },
  {
   "cell_type": "code",
   "execution_count": null,
   "metadata": {},
   "outputs": [],
   "source": []
  }
 ],
 "metadata": {
  "kernelspec": {
   "display_name": "Python 3",
   "language": "python",
   "name": "python3"
  },
  "language_info": {
   "codemirror_mode": {
    "name": "ipython",
    "version": 3
   },
   "file_extension": ".py",
   "mimetype": "text/x-python",
   "name": "python",
   "nbconvert_exporter": "python",
   "pygments_lexer": "ipython3",
   "version": "3.9.10"
  },
  "orig_nbformat": 4
 },
 "nbformat": 4,
 "nbformat_minor": 2
}
